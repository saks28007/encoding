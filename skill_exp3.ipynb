{
  "nbformat": 4,
  "nbformat_minor": 0,
  "metadata": {
    "colab": {
      "private_outputs": true,
      "provenance": []
    },
    "kernelspec": {
      "name": "python3",
      "display_name": "Python 3"
    },
    "language_info": {
      "name": "python"
    }
  },
  "cells": [
    {
      "cell_type": "code",
      "execution_count": null,
      "metadata": {
        "id": "XtkOtjIyT8n6"
      },
      "outputs": [],
      "source": [
        "#EXP 3: ENCODING\n",
        "\n",
        "\n",
        "#1. LABEL ENCODING\n",
        "from sklearn.preprocessing import LabelEncoder\n",
        "data=['Low','High','Medium','High','Medium']\n",
        "\n",
        "encoder= LabelEncoder()\n",
        "encoded_data=encoder.fit_transform(data)\n",
        "print(f\"Label encoded data:\\n{encoded_data}\")\n",
        "\n",
        "#2. ONE HOT ENCODING\n",
        "import pandas as pd\n",
        "data=['Red','Blue','Green','Blue','Red']\n",
        "df= pd.DataFrame(data,columns=['Color'])\n",
        "\n",
        "one_hot_encoded=pd.get_dummies(df['Color'])\n",
        "print(\"\\nOne hot encoded:\")\n",
        "print(one_hot_encoded)\n",
        "\n",
        "#3. ORDINAL ENCODING\n",
        "from sklearn.preprocessing import OrdinalEncoder\n",
        "data=[['Low'],['High'],['Medium'],['High'],['Medium']]\n",
        "\n",
        "encoder=OrdinalEncoder(categories=[['Low','Medium','High']])\n",
        "encoded_data=encoder.fit_transform(data)\n",
        "print(f\"\\nOrdinal Encoded Data:\\n{encoded_data}\")\n",
        "\n",
        "#4. TARGET ENCODING\n",
        "!pip install category_encoders\n",
        "import pandas as pd\n",
        "import category_encoders as ce\n",
        "\n",
        "data={'Color':['Red','Blue','Green','Blue','Red','Blue','Green','Green','Green','Blue'],'Target':['1','0','0','1','1','1','0','1','0','1']}\n",
        "df=pd.DataFrame(data)\n",
        "\n",
        "df['Target'] = df['Target'].astype(int)\n",
        "encoder= ce.TargetEncoder(cols=['Color'])\n",
        "\n",
        "encoded_data=encoder.fit_transform(df['Color'],df['Target'])\n",
        "print(f\"\\nTarget encoded:\\n{encoded_data}\")\n",
        "\n",
        "#5. BINARY ENCODING\n",
        "import category_encoders as ce\n",
        "data=['Red','Green','Blue','Blue','Grey']\n",
        "\n",
        "encoder = ce.BinaryEncoder(cols=['Color'])\n",
        "\n",
        "encoded_data=encoder.fit_transform(pd.DataFrame(data,columns=['Color']))\n",
        "\n",
        "print(\"\\nbinary encoded:\")\n",
        "print(encoded_data)\n",
        "\n",
        "#6. FREQUENCY ENCODING\n",
        "import pandas as pd\n",
        "data=['Red','Green','Blue','Red','Red']\n",
        "\n",
        "series_data= pd.Series(data)\n",
        "frequency_encoding=series_data.value_counts()\n",
        "series_data.value_counts()\n",
        "\n",
        "encoded_data= [frequency_encoding[x] for x in data]\n",
        "\n",
        "print(\"\\nFrequency encoded:\\n\")\n",
        "print(\"Encoded data:\",encoded_data)"
      ]
    }
  ]
}